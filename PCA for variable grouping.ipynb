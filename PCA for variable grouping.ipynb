{
 "cells": [
  {
   "cell_type": "code",
   "execution_count": 1,
   "metadata": {},
   "outputs": [],
   "source": [
    "import numpy as np\n",
    "#from numpy import mean\n",
    "#from numpy import cov\n",
    "from numpy.linalg import eig\n",
    "import pandas as pd \n",
    "from datetime import datetime"
   ]
  },
  {
   "cell_type": "code",
   "execution_count": 2,
   "metadata": {},
   "outputs": [],
   "source": [
    "development = pd.read_excel(\"development_num_final.xlsx\")\n",
    "data = development[[\"age_b1 \",\"salary_a1 \",\"age_grp_minstry_b1 \",\"salary_grp_minstry_b1 \",\"age_CUSTOMER_POSITION_GRP_b1 \",\"salary_CUSTOMER_POSITION_GRP_a1 \", \"GENDER_ST\",\"Region_Location_grp_ST\", \"salary_st\",\"Region_ministry_gender\",\"Ministry_Gender\",\"Customer_Gender\"]]"
   ]
  },
  {
   "cell_type": "code",
   "execution_count": 3,
   "metadata": {},
   "outputs": [],
   "source": [
    "variable = []\n",
    "Pca =[]\n",
    "cors = []"
   ]
  },
  {
   "cell_type": "code",
   "execution_count": 4,
   "metadata": {},
   "outputs": [
    {
     "name": "stderr",
     "output_type": "stream",
     "text": [
      "C:\\Users\\l-rza\\Anaconda3\\lib\\site-packages\\ipykernel_launcher.py:2: SettingWithCopyWarning: \n",
      "A value is trying to be set on a copy of a slice from a DataFrame.\n",
      "Try using .loc[row_indexer,col_indexer] = value instead\n",
      "\n",
      "See the caveats in the documentation: http://pandas.pydata.org/pandas-docs/stable/user_guide/indexing.html#returning-a-view-versus-a-copy\n",
      "  \n"
     ]
    }
   ],
   "source": [
    "for i in data.columns:\n",
    "        data[i] = data[i]-np.mean(data[i])\n",
    "        Covariance_matrix = np.cov(data.T)\n",
    "        values, vectors = eig(Covariance_matrix)\n",
    "        P = vectors.T.dot(data.T)\n",
    "        PcA = pd.DataFrame(P.T)"
   ]
  },
  {
   "cell_type": "code",
   "execution_count": 5,
   "metadata": {},
   "outputs": [],
   "source": [
    "for i,j in zip(PcA.columns, range(0, PcA.shape[1],1)):\n",
    "      PcA.rename(columns = {i:\"Factor\"+str(j)}, inplace = True)"
   ]
  },
  {
   "cell_type": "code",
   "execution_count": 6,
   "metadata": {},
   "outputs": [],
   "source": [
    "for i in data.columns:\n",
    "        for d in PcA.columns:\n",
    "            corrs = data[i].corr(PcA[d])\n",
    "            cors.append(corrs)\n",
    "            variable.append(i)\n",
    "            Pca.append(d)\n",
    "            correlation =pd.DataFrame(PcA.columns)\n",
    "    "
   ]
  },
  {
   "cell_type": "code",
   "execution_count": 7,
   "metadata": {},
   "outputs": [],
   "source": [
    "from itertools import islice \n",
    " # list of length in which we have to split \n",
    "from itertools import repeat\n",
    "given_value =correlation.shape[0]\n",
    "length_to_split=[]\n",
    "length_to_split.extend(repeat(given_value,int(len(cors)/correlation.shape[0])))"
   ]
  },
  {
   "cell_type": "code",
   "execution_count": 8,
   "metadata": {},
   "outputs": [],
   "source": [
    "Inputt = iter(cors) \n",
    "Output = [list(islice(Inputt, elem)) for elem in length_to_split]\n"
   ]
  },
  {
   "cell_type": "code",
   "execution_count": 9,
   "metadata": {},
   "outputs": [],
   "source": [
    "for i,j in zip(data.columns,Output):\n",
    "         ll = j\n",
    "         correlation[i] = ll"
   ]
  },
  {
   "cell_type": "code",
   "execution_count": 10,
   "metadata": {},
   "outputs": [],
   "source": [
    "c = correlation.T"
   ]
  },
  {
   "cell_type": "code",
   "execution_count": 11,
   "metadata": {
    "scrolled": true
   },
   "outputs": [],
   "source": [
    "for i,j in zip(c.columns, range(0, PcA.shape[1],1)):\n",
    "      c.rename(columns = {i:\"Factor\"+str(j)}, inplace = True)"
   ]
  },
  {
   "cell_type": "code",
   "execution_count": 12,
   "metadata": {},
   "outputs": [],
   "source": [
    "c = c.iloc[1:,:]\n",
    "c = abs(c)"
   ]
  },
  {
   "cell_type": "code",
   "execution_count": 28,
   "metadata": {},
   "outputs": [],
   "source": [
    "c[\"max_abs_value\"]=c.max(axis=1)"
   ]
  },
  {
   "cell_type": "code",
   "execution_count": 25,
   "metadata": {},
   "outputs": [],
   "source": [
    "gg=[]\n",
    "dd = []\n",
    "m = []\n",
    "for d in c.columns[0:c.shape[1]-1]:\n",
    "    for i in range(0,c.shape[0],1):\n",
    "        maxx = abs(c.max(axis=1)[i])\n",
    "        if len((c[d] == maxx).unique()) ==2:\n",
    "            gg.append(d[-1])\n",
    "            dd.append(d)\n",
    "            m.append(maxx)"
   ]
  },
  {
   "cell_type": "code",
   "execution_count": 29,
   "metadata": {},
   "outputs": [],
   "source": [
    "c = c.reset_index().rename(columns = {\"index\":\"Variables\"}).merge(pd.DataFrame([m,gg]).T.rename(columns = {0:\"max_abs_value\",1:\"Groups\"}), on = \"max_abs_value\")"
   ]
  },
  {
   "cell_type": "code",
   "execution_count": null,
   "metadata": {},
   "outputs": [],
   "source": []
  }
 ],
 "metadata": {
  "kernelspec": {
   "display_name": "Python 3",
   "language": "python",
   "name": "python3"
  },
  "language_info": {
   "codemirror_mode": {
    "name": "ipython",
    "version": 3
   },
   "file_extension": ".py",
   "mimetype": "text/x-python",
   "name": "python",
   "nbconvert_exporter": "python",
   "pygments_lexer": "ipython3",
   "version": "3.7.4"
  }
 },
 "nbformat": 4,
 "nbformat_minor": 2
}
